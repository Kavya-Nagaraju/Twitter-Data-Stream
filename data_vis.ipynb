{
    "cells": [
        {
            "cell_type": "code",
            "execution_count": 11,
            "metadata": {},
            "outputs": [],
            "source": [
                "from google.cloud import bigquery\n",
                "import pandas as pd"
            ]
        },
        {
            "cell_type": "code",
            "execution_count": 12,
            "metadata": {},
            "outputs": [],
            "source": [
                "import os\n",
                "os.environ[\"GOOGLE_APPLICATION_CREDENTIALS\"]=\"/path/to/downloaded/google-credentials-json-file\"\n",
                "\n",
                "project_id = \"propane-highway-326820\"\n",
                "client = bigquery.Client()"
            ]
        },
        {
            "cell_type": "code",
            "execution_count": 13,
            "metadata": {},
            "outputs": [],
            "source": [
                "query = \"\"\"\n",
                "    SELECT * FROM `propane-highway-326820.twitter_stream.tweets`\n",
                "\"\"\"\n",
                "query_job = client.query(query)"
            ]
        },
        {
            "cell_type": "code",
            "execution_count": 14,
            "metadata": {},
            "outputs": [],
            "source": [
                "output = pd.DataFrame()\n",
                "for row in query_job:\n",
                "    output = output.append(dict(row), ignore_index=True)\n",
                "# print(output)"
            ]
        },
        {
            "cell_type": "code",
            "execution_count": 15,
            "metadata": {},
            "outputs": [
                {
                    "data": {
                        "text/html": [
                            "<div>\n",
                            "<style scoped>\n",
                            "    .dataframe tbody tr th:only-of-type {\n",
                            "        vertical-align: middle;\n",
                            "    }\n",
                            "\n",
                            "    .dataframe tbody tr th {\n",
                            "        vertical-align: top;\n",
                            "    }\n",
                            "\n",
                            "    .dataframe thead th {\n",
                            "        text-align: right;\n",
                            "    }\n",
                            "</style>\n",
                            "<table border=\"1\" class=\"dataframe\">\n",
                            "  <thead>\n",
                            "    <tr style=\"text-align: right;\">\n",
                            "      <th></th>\n",
                            "      <th>created_at</th>\n",
                            "      <th>id</th>\n",
                            "      <th>retweet_count</th>\n",
                            "      <th>text</th>\n",
                            "      <th>user_name</th>\n",
                            "      <th>user_location</th>\n",
                            "      <th>user_followers_count</th>\n",
                            "    </tr>\n",
                            "  </thead>\n",
                            "  <tbody>\n",
                            "    <tr>\n",
                            "      <th>0</th>\n",
                            "      <td>Tue Oct 19 22:52:20 +0000 2021</td>\n",
                            "      <td>1450595702065745920</td>\n",
                            "      <td>0</td>\n",
                            "      <td>@therecount Of course in the church of #covid ...</td>\n",
                            "      <td>JW, Domestic Terrorist</td>\n",
                            "      <td>Panama City, FL</td>\n",
                            "      <td>633</td>\n",
                            "    </tr>\n",
                            "    <tr>\n",
                            "      <th>1</th>\n",
                            "      <td>Tue Oct 19 22:52:27 +0000 2021</td>\n",
                            "      <td>1450595729970454529</td>\n",
                            "      <td>0</td>\n",
                            "      <td>RT @American_Alley2: 👇Should never happen in A...</td>\n",
                            "      <td>kung fu jedi</td>\n",
                            "      <td>Alabama, USA</td>\n",
                            "      <td>14725</td>\n",
                            "    </tr>\n",
                            "    <tr>\n",
                            "      <th>2</th>\n",
                            "      <td>Tue Oct 19 22:53:56 +0000 2021</td>\n",
                            "      <td>1450596105088114689</td>\n",
                            "      <td>0</td>\n",
                            "      <td>RT @CDCgov: As of October 18, 2021, 219 millio...</td>\n",
                            "      <td>ETSU Center for Rural Health Research</td>\n",
                            "      <td>ETSU College of Public Health</td>\n",
                            "      <td>164</td>\n",
                            "    </tr>\n",
                            "    <tr>\n",
                            "      <th>3</th>\n",
                            "      <td>Tue Oct 19 22:55:02 +0000 2021</td>\n",
                            "      <td>1450596378313375750</td>\n",
                            "      <td>0</td>\n",
                            "      <td>RT @sdbaral: Just a FYI to anyone who cares th...</td>\n",
                            "      <td>Panic in Needle Park</td>\n",
                            "      <td>Sarasota, FL</td>\n",
                            "      <td>606</td>\n",
                            "    </tr>\n",
                            "    <tr>\n",
                            "      <th>4</th>\n",
                            "      <td>Tue Oct 19 22:55:14 +0000 2021</td>\n",
                            "      <td>1450596432436736002</td>\n",
                            "      <td>0</td>\n",
                            "      <td>RT @BenPBradshaw: Very disappointing non-answe...</td>\n",
                            "      <td>Steaks</td>\n",
                            "      <td>Europe</td>\n",
                            "      <td>225</td>\n",
                            "    </tr>\n",
                            "  </tbody>\n",
                            "</table>\n",
                            "</div>"
                        ],
                        "text/plain": [
                            "                       created_at                   id retweet_count  \\\n",
                            "0  Tue Oct 19 22:52:20 +0000 2021  1450595702065745920             0   \n",
                            "1  Tue Oct 19 22:52:27 +0000 2021  1450595729970454529             0   \n",
                            "2  Tue Oct 19 22:53:56 +0000 2021  1450596105088114689             0   \n",
                            "3  Tue Oct 19 22:55:02 +0000 2021  1450596378313375750             0   \n",
                            "4  Tue Oct 19 22:55:14 +0000 2021  1450596432436736002             0   \n",
                            "\n",
                            "                                                text  \\\n",
                            "0  @therecount Of course in the church of #covid ...   \n",
                            "1  RT @American_Alley2: 👇Should never happen in A...   \n",
                            "2  RT @CDCgov: As of October 18, 2021, 219 millio...   \n",
                            "3  RT @sdbaral: Just a FYI to anyone who cares th...   \n",
                            "4  RT @BenPBradshaw: Very disappointing non-answe...   \n",
                            "\n",
                            "                               user_name                  user_location  \\\n",
                            "0                 JW, Domestic Terrorist                Panama City, FL   \n",
                            "1                           kung fu jedi                   Alabama, USA   \n",
                            "2  ETSU Center for Rural Health Research  ETSU College of Public Health   \n",
                            "3                   Panic in Needle Park                   Sarasota, FL   \n",
                            "4                                 Steaks                        Europe    \n",
                            "\n",
                            "  user_followers_count  \n",
                            "0                  633  \n",
                            "1                14725  \n",
                            "2                  164  \n",
                            "3                  606  \n",
                            "4                  225  "
                        ]
                    },
                    "execution_count": 15,
                    "metadata": {},
                    "output_type": "execute_result"
                }
            ],
            "source": [
                "output.head()"
            ]
        },
        {
            "cell_type": "code",
            "execution_count": 16,
            "metadata": {},
            "outputs": [],
            "source": [
                "#converting date from string to datetime\n",
                "output['created_at'] = pd.to_datetime(output['created_at'])\n",
                "# output\n"
            ]
        },
        {
            "cell_type": "code",
            "execution_count": 17,
            "metadata": {},
            "outputs": [
                {
                    "name": "stdout",
                    "output_type": "stream",
                    "text": [
                        "                 created_at  count\n",
                        "0 2021-10-19 22:45:00+00:00    675\n",
                        "1 2021-10-19 23:00:00+00:00   1187\n",
                        "2 2021-10-19 23:15:00+00:00    581\n"
                    ]
                }
            ],
            "source": [
                "df = output['created_at'].groupby(output['created_at'].dt.floor('15T')).size().reset_index(name='count')\n",
                "print (df)"
            ]
        },
        {
            "cell_type": "code",
            "execution_count": 18,
            "metadata": {},
            "outputs": [
                {
                    "data": {
                        "application/vnd.plotly.v1+json": {
                            "config": {
                                "plotlyServerURL": "https://plot.ly"
                            },
                            "data": [
                                {
                                    "hovertemplate": "Time=%{x}<br>Count=%{y}<extra></extra>",
                                    "legendgroup": "",
                                    "line": {
                                        "color": "#636efa",
                                        "dash": "solid"
                                    },
                                    "mode": "lines",
                                    "name": "",
                                    "orientation": "v",
                                    "showlegend": false,
                                    "type": "scatter",
                                    "x": [
                                        "2021-10-19T22:45:00+00:00",
                                        "2021-10-19T23:00:00+00:00",
                                        "2021-10-19T23:15:00+00:00"
                                    ],
                                    "xaxis": "x",
                                    "y": [
                                        675,
                                        1187,
                                        581
                                    ],
                                    "yaxis": "y"
                                }
                            ],
                            "layout": {
                                "legend": {
                                    "tracegroupgap": 0
                                },
                                "template": {
                                    "data": {
                                        "bar": [
                                            {
                                                "error_x": {
                                                    "color": "#2a3f5f"
                                                },
                                                "error_y": {
                                                    "color": "#2a3f5f"
                                                },
                                                "marker": {
                                                    "line": {
                                                        "color": "#E5ECF6",
                                                        "width": 0.5
                                                    },
                                                    "pattern": {
                                                        "fillmode": "overlay",
                                                        "size": 10,
                                                        "solidity": 0.2
                                                    }
                                                },
                                                "type": "bar"
                                            }
                                        ],
                                        "barpolar": [
                                            {
                                                "marker": {
                                                    "line": {
                                                        "color": "#E5ECF6",
                                                        "width": 0.5
                                                    },
                                                    "pattern": {
                                                        "fillmode": "overlay",
                                                        "size": 10,
                                                        "solidity": 0.2
                                                    }
                                                },
                                                "type": "barpolar"
                                            }
                                        ],
                                        "carpet": [
                                            {
                                                "aaxis": {
                                                    "endlinecolor": "#2a3f5f",
                                                    "gridcolor": "white",
                                                    "linecolor": "white",
                                                    "minorgridcolor": "white",
                                                    "startlinecolor": "#2a3f5f"
                                                },
                                                "baxis": {
                                                    "endlinecolor": "#2a3f5f",
                                                    "gridcolor": "white",
                                                    "linecolor": "white",
                                                    "minorgridcolor": "white",
                                                    "startlinecolor": "#2a3f5f"
                                                },
                                                "type": "carpet"
                                            }
                                        ],
                                        "choropleth": [
                                            {
                                                "colorbar": {
                                                    "outlinewidth": 0,
                                                    "ticks": ""
                                                },
                                                "type": "choropleth"
                                            }
                                        ],
                                        "contour": [
                                            {
                                                "colorbar": {
                                                    "outlinewidth": 0,
                                                    "ticks": ""
                                                },
                                                "colorscale": [
                                                    [
                                                        0,
                                                        "#0d0887"
                                                    ],
                                                    [
                                                        0.1111111111111111,
                                                        "#46039f"
                                                    ],
                                                    [
                                                        0.2222222222222222,
                                                        "#7201a8"
                                                    ],
                                                    [
                                                        0.3333333333333333,
                                                        "#9c179e"
                                                    ],
                                                    [
                                                        0.4444444444444444,
                                                        "#bd3786"
                                                    ],
                                                    [
                                                        0.5555555555555556,
                                                        "#d8576b"
                                                    ],
                                                    [
                                                        0.6666666666666666,
                                                        "#ed7953"
                                                    ],
                                                    [
                                                        0.7777777777777778,
                                                        "#fb9f3a"
                                                    ],
                                                    [
                                                        0.8888888888888888,
                                                        "#fdca26"
                                                    ],
                                                    [
                                                        1,
                                                        "#f0f921"
                                                    ]
                                                ],
                                                "type": "contour"
                                            }
                                        ],
                                        "contourcarpet": [
                                            {
                                                "colorbar": {
                                                    "outlinewidth": 0,
                                                    "ticks": ""
                                                },
                                                "type": "contourcarpet"
                                            }
                                        ],
                                        "heatmap": [
                                            {
                                                "colorbar": {
                                                    "outlinewidth": 0,
                                                    "ticks": ""
                                                },
                                                "colorscale": [
                                                    [
                                                        0,
                                                        "#0d0887"
                                                    ],
                                                    [
                                                        0.1111111111111111,
                                                        "#46039f"
                                                    ],
                                                    [
                                                        0.2222222222222222,
                                                        "#7201a8"
                                                    ],
                                                    [
                                                        0.3333333333333333,
                                                        "#9c179e"
                                                    ],
                                                    [
                                                        0.4444444444444444,
                                                        "#bd3786"
                                                    ],
                                                    [
                                                        0.5555555555555556,
                                                        "#d8576b"
                                                    ],
                                                    [
                                                        0.6666666666666666,
                                                        "#ed7953"
                                                    ],
                                                    [
                                                        0.7777777777777778,
                                                        "#fb9f3a"
                                                    ],
                                                    [
                                                        0.8888888888888888,
                                                        "#fdca26"
                                                    ],
                                                    [
                                                        1,
                                                        "#f0f921"
                                                    ]
                                                ],
                                                "type": "heatmap"
                                            }
                                        ],
                                        "heatmapgl": [
                                            {
                                                "colorbar": {
                                                    "outlinewidth": 0,
                                                    "ticks": ""
                                                },
                                                "colorscale": [
                                                    [
                                                        0,
                                                        "#0d0887"
                                                    ],
                                                    [
                                                        0.1111111111111111,
                                                        "#46039f"
                                                    ],
                                                    [
                                                        0.2222222222222222,
                                                        "#7201a8"
                                                    ],
                                                    [
                                                        0.3333333333333333,
                                                        "#9c179e"
                                                    ],
                                                    [
                                                        0.4444444444444444,
                                                        "#bd3786"
                                                    ],
                                                    [
                                                        0.5555555555555556,
                                                        "#d8576b"
                                                    ],
                                                    [
                                                        0.6666666666666666,
                                                        "#ed7953"
                                                    ],
                                                    [
                                                        0.7777777777777778,
                                                        "#fb9f3a"
                                                    ],
                                                    [
                                                        0.8888888888888888,
                                                        "#fdca26"
                                                    ],
                                                    [
                                                        1,
                                                        "#f0f921"
                                                    ]
                                                ],
                                                "type": "heatmapgl"
                                            }
                                        ],
                                        "histogram": [
                                            {
                                                "marker": {
                                                    "pattern": {
                                                        "fillmode": "overlay",
                                                        "size": 10,
                                                        "solidity": 0.2
                                                    }
                                                },
                                                "type": "histogram"
                                            }
                                        ],
                                        "histogram2d": [
                                            {
                                                "colorbar": {
                                                    "outlinewidth": 0,
                                                    "ticks": ""
                                                },
                                                "colorscale": [
                                                    [
                                                        0,
                                                        "#0d0887"
                                                    ],
                                                    [
                                                        0.1111111111111111,
                                                        "#46039f"
                                                    ],
                                                    [
                                                        0.2222222222222222,
                                                        "#7201a8"
                                                    ],
                                                    [
                                                        0.3333333333333333,
                                                        "#9c179e"
                                                    ],
                                                    [
                                                        0.4444444444444444,
                                                        "#bd3786"
                                                    ],
                                                    [
                                                        0.5555555555555556,
                                                        "#d8576b"
                                                    ],
                                                    [
                                                        0.6666666666666666,
                                                        "#ed7953"
                                                    ],
                                                    [
                                                        0.7777777777777778,
                                                        "#fb9f3a"
                                                    ],
                                                    [
                                                        0.8888888888888888,
                                                        "#fdca26"
                                                    ],
                                                    [
                                                        1,
                                                        "#f0f921"
                                                    ]
                                                ],
                                                "type": "histogram2d"
                                            }
                                        ],
                                        "histogram2dcontour": [
                                            {
                                                "colorbar": {
                                                    "outlinewidth": 0,
                                                    "ticks": ""
                                                },
                                                "colorscale": [
                                                    [
                                                        0,
                                                        "#0d0887"
                                                    ],
                                                    [
                                                        0.1111111111111111,
                                                        "#46039f"
                                                    ],
                                                    [
                                                        0.2222222222222222,
                                                        "#7201a8"
                                                    ],
                                                    [
                                                        0.3333333333333333,
                                                        "#9c179e"
                                                    ],
                                                    [
                                                        0.4444444444444444,
                                                        "#bd3786"
                                                    ],
                                                    [
                                                        0.5555555555555556,
                                                        "#d8576b"
                                                    ],
                                                    [
                                                        0.6666666666666666,
                                                        "#ed7953"
                                                    ],
                                                    [
                                                        0.7777777777777778,
                                                        "#fb9f3a"
                                                    ],
                                                    [
                                                        0.8888888888888888,
                                                        "#fdca26"
                                                    ],
                                                    [
                                                        1,
                                                        "#f0f921"
                                                    ]
                                                ],
                                                "type": "histogram2dcontour"
                                            }
                                        ],
                                        "mesh3d": [
                                            {
                                                "colorbar": {
                                                    "outlinewidth": 0,
                                                    "ticks": ""
                                                },
                                                "type": "mesh3d"
                                            }
                                        ],
                                        "parcoords": [
                                            {
                                                "line": {
                                                    "colorbar": {
                                                        "outlinewidth": 0,
                                                        "ticks": ""
                                                    }
                                                },
                                                "type": "parcoords"
                                            }
                                        ],
                                        "pie": [
                                            {
                                                "automargin": true,
                                                "type": "pie"
                                            }
                                        ],
                                        "scatter": [
                                            {
                                                "marker": {
                                                    "colorbar": {
                                                        "outlinewidth": 0,
                                                        "ticks": ""
                                                    }
                                                },
                                                "type": "scatter"
                                            }
                                        ],
                                        "scatter3d": [
                                            {
                                                "line": {
                                                    "colorbar": {
                                                        "outlinewidth": 0,
                                                        "ticks": ""
                                                    }
                                                },
                                                "marker": {
                                                    "colorbar": {
                                                        "outlinewidth": 0,
                                                        "ticks": ""
                                                    }
                                                },
                                                "type": "scatter3d"
                                            }
                                        ],
                                        "scattercarpet": [
                                            {
                                                "marker": {
                                                    "colorbar": {
                                                        "outlinewidth": 0,
                                                        "ticks": ""
                                                    }
                                                },
                                                "type": "scattercarpet"
                                            }
                                        ],
                                        "scattergeo": [
                                            {
                                                "marker": {
                                                    "colorbar": {
                                                        "outlinewidth": 0,
                                                        "ticks": ""
                                                    }
                                                },
                                                "type": "scattergeo"
                                            }
                                        ],
                                        "scattergl": [
                                            {
                                                "marker": {
                                                    "colorbar": {
                                                        "outlinewidth": 0,
                                                        "ticks": ""
                                                    }
                                                },
                                                "type": "scattergl"
                                            }
                                        ],
                                        "scattermapbox": [
                                            {
                                                "marker": {
                                                    "colorbar": {
                                                        "outlinewidth": 0,
                                                        "ticks": ""
                                                    }
                                                },
                                                "type": "scattermapbox"
                                            }
                                        ],
                                        "scatterpolar": [
                                            {
                                                "marker": {
                                                    "colorbar": {
                                                        "outlinewidth": 0,
                                                        "ticks": ""
                                                    }
                                                },
                                                "type": "scatterpolar"
                                            }
                                        ],
                                        "scatterpolargl": [
                                            {
                                                "marker": {
                                                    "colorbar": {
                                                        "outlinewidth": 0,
                                                        "ticks": ""
                                                    }
                                                },
                                                "type": "scatterpolargl"
                                            }
                                        ],
                                        "scatterternary": [
                                            {
                                                "marker": {
                                                    "colorbar": {
                                                        "outlinewidth": 0,
                                                        "ticks": ""
                                                    }
                                                },
                                                "type": "scatterternary"
                                            }
                                        ],
                                        "surface": [
                                            {
                                                "colorbar": {
                                                    "outlinewidth": 0,
                                                    "ticks": ""
                                                },
                                                "colorscale": [
                                                    [
                                                        0,
                                                        "#0d0887"
                                                    ],
                                                    [
                                                        0.1111111111111111,
                                                        "#46039f"
                                                    ],
                                                    [
                                                        0.2222222222222222,
                                                        "#7201a8"
                                                    ],
                                                    [
                                                        0.3333333333333333,
                                                        "#9c179e"
                                                    ],
                                                    [
                                                        0.4444444444444444,
                                                        "#bd3786"
                                                    ],
                                                    [
                                                        0.5555555555555556,
                                                        "#d8576b"
                                                    ],
                                                    [
                                                        0.6666666666666666,
                                                        "#ed7953"
                                                    ],
                                                    [
                                                        0.7777777777777778,
                                                        "#fb9f3a"
                                                    ],
                                                    [
                                                        0.8888888888888888,
                                                        "#fdca26"
                                                    ],
                                                    [
                                                        1,
                                                        "#f0f921"
                                                    ]
                                                ],
                                                "type": "surface"
                                            }
                                        ],
                                        "table": [
                                            {
                                                "cells": {
                                                    "fill": {
                                                        "color": "#EBF0F8"
                                                    },
                                                    "line": {
                                                        "color": "white"
                                                    }
                                                },
                                                "header": {
                                                    "fill": {
                                                        "color": "#C8D4E3"
                                                    },
                                                    "line": {
                                                        "color": "white"
                                                    }
                                                },
                                                "type": "table"
                                            }
                                        ]
                                    },
                                    "layout": {
                                        "annotationdefaults": {
                                            "arrowcolor": "#2a3f5f",
                                            "arrowhead": 0,
                                            "arrowwidth": 1
                                        },
                                        "autotypenumbers": "strict",
                                        "coloraxis": {
                                            "colorbar": {
                                                "outlinewidth": 0,
                                                "ticks": ""
                                            }
                                        },
                                        "colorscale": {
                                            "diverging": [
                                                [
                                                    0,
                                                    "#8e0152"
                                                ],
                                                [
                                                    0.1,
                                                    "#c51b7d"
                                                ],
                                                [
                                                    0.2,
                                                    "#de77ae"
                                                ],
                                                [
                                                    0.3,
                                                    "#f1b6da"
                                                ],
                                                [
                                                    0.4,
                                                    "#fde0ef"
                                                ],
                                                [
                                                    0.5,
                                                    "#f7f7f7"
                                                ],
                                                [
                                                    0.6,
                                                    "#e6f5d0"
                                                ],
                                                [
                                                    0.7,
                                                    "#b8e186"
                                                ],
                                                [
                                                    0.8,
                                                    "#7fbc41"
                                                ],
                                                [
                                                    0.9,
                                                    "#4d9221"
                                                ],
                                                [
                                                    1,
                                                    "#276419"
                                                ]
                                            ],
                                            "sequential": [
                                                [
                                                    0,
                                                    "#0d0887"
                                                ],
                                                [
                                                    0.1111111111111111,
                                                    "#46039f"
                                                ],
                                                [
                                                    0.2222222222222222,
                                                    "#7201a8"
                                                ],
                                                [
                                                    0.3333333333333333,
                                                    "#9c179e"
                                                ],
                                                [
                                                    0.4444444444444444,
                                                    "#bd3786"
                                                ],
                                                [
                                                    0.5555555555555556,
                                                    "#d8576b"
                                                ],
                                                [
                                                    0.6666666666666666,
                                                    "#ed7953"
                                                ],
                                                [
                                                    0.7777777777777778,
                                                    "#fb9f3a"
                                                ],
                                                [
                                                    0.8888888888888888,
                                                    "#fdca26"
                                                ],
                                                [
                                                    1,
                                                    "#f0f921"
                                                ]
                                            ],
                                            "sequentialminus": [
                                                [
                                                    0,
                                                    "#0d0887"
                                                ],
                                                [
                                                    0.1111111111111111,
                                                    "#46039f"
                                                ],
                                                [
                                                    0.2222222222222222,
                                                    "#7201a8"
                                                ],
                                                [
                                                    0.3333333333333333,
                                                    "#9c179e"
                                                ],
                                                [
                                                    0.4444444444444444,
                                                    "#bd3786"
                                                ],
                                                [
                                                    0.5555555555555556,
                                                    "#d8576b"
                                                ],
                                                [
                                                    0.6666666666666666,
                                                    "#ed7953"
                                                ],
                                                [
                                                    0.7777777777777778,
                                                    "#fb9f3a"
                                                ],
                                                [
                                                    0.8888888888888888,
                                                    "#fdca26"
                                                ],
                                                [
                                                    1,
                                                    "#f0f921"
                                                ]
                                            ]
                                        },
                                        "colorway": [
                                            "#636efa",
                                            "#EF553B",
                                            "#00cc96",
                                            "#ab63fa",
                                            "#FFA15A",
                                            "#19d3f3",
                                            "#FF6692",
                                            "#B6E880",
                                            "#FF97FF",
                                            "#FECB52"
                                        ],
                                        "font": {
                                            "color": "#2a3f5f"
                                        },
                                        "geo": {
                                            "bgcolor": "white",
                                            "lakecolor": "white",
                                            "landcolor": "#E5ECF6",
                                            "showlakes": true,
                                            "showland": true,
                                            "subunitcolor": "white"
                                        },
                                        "hoverlabel": {
                                            "align": "left"
                                        },
                                        "hovermode": "closest",
                                        "mapbox": {
                                            "style": "light"
                                        },
                                        "paper_bgcolor": "white",
                                        "plot_bgcolor": "#E5ECF6",
                                        "polar": {
                                            "angularaxis": {
                                                "gridcolor": "white",
                                                "linecolor": "white",
                                                "ticks": ""
                                            },
                                            "bgcolor": "#E5ECF6",
                                            "radialaxis": {
                                                "gridcolor": "white",
                                                "linecolor": "white",
                                                "ticks": ""
                                            }
                                        },
                                        "scene": {
                                            "xaxis": {
                                                "backgroundcolor": "#E5ECF6",
                                                "gridcolor": "white",
                                                "gridwidth": 2,
                                                "linecolor": "white",
                                                "showbackground": true,
                                                "ticks": "",
                                                "zerolinecolor": "white"
                                            },
                                            "yaxis": {
                                                "backgroundcolor": "#E5ECF6",
                                                "gridcolor": "white",
                                                "gridwidth": 2,
                                                "linecolor": "white",
                                                "showbackground": true,
                                                "ticks": "",
                                                "zerolinecolor": "white"
                                            },
                                            "zaxis": {
                                                "backgroundcolor": "#E5ECF6",
                                                "gridcolor": "white",
                                                "gridwidth": 2,
                                                "linecolor": "white",
                                                "showbackground": true,
                                                "ticks": "",
                                                "zerolinecolor": "white"
                                            }
                                        },
                                        "shapedefaults": {
                                            "line": {
                                                "color": "#2a3f5f"
                                            }
                                        },
                                        "ternary": {
                                            "aaxis": {
                                                "gridcolor": "white",
                                                "linecolor": "white",
                                                "ticks": ""
                                            },
                                            "baxis": {
                                                "gridcolor": "white",
                                                "linecolor": "white",
                                                "ticks": ""
                                            },
                                            "bgcolor": "#E5ECF6",
                                            "caxis": {
                                                "gridcolor": "white",
                                                "linecolor": "white",
                                                "ticks": ""
                                            }
                                        },
                                        "title": {
                                            "x": 0.05
                                        },
                                        "xaxis": {
                                            "automargin": true,
                                            "gridcolor": "white",
                                            "linecolor": "white",
                                            "ticks": "",
                                            "title": {
                                                "standoff": 15
                                            },
                                            "zerolinecolor": "white",
                                            "zerolinewidth": 2
                                        },
                                        "yaxis": {
                                            "automargin": true,
                                            "gridcolor": "white",
                                            "linecolor": "white",
                                            "ticks": "",
                                            "title": {
                                                "standoff": 15
                                            },
                                            "zerolinecolor": "white",
                                            "zerolinewidth": 2
                                        }
                                    }
                                },
                                "title": {
                                    "text": "Tweets per 15 mins"
                                },
                                "xaxis": {
                                    "anchor": "y",
                                    "domain": [
                                        0,
                                        1
                                    ],
                                    "title": {
                                        "text": "Time"
                                    }
                                },
                                "yaxis": {
                                    "anchor": "x",
                                    "domain": [
                                        0,
                                        1
                                    ],
                                    "title": {
                                        "text": "Count"
                                    }
                                }
                            }
                        }
                    },
                    "metadata": {},
                    "output_type": "display_data"
                }
            ],
            "source": [
                "import plotly.express as px\n",
                "\n",
                "fig = px.line(df, x='created_at', y=\"count\", labels={'created_at':'Time', 'count':'Count'}, title= 'Tweets per 15 mins')\n",
                "fig.show()"
            ]
        },
        {
            "cell_type": "code",
            "execution_count": 19,
            "metadata": {},
            "outputs": [
                {
                    "data": {
                        "text/html": [
                            "<div>\n",
                            "<style scoped>\n",
                            "    .dataframe tbody tr th:only-of-type {\n",
                            "        vertical-align: middle;\n",
                            "    }\n",
                            "\n",
                            "    .dataframe tbody tr th {\n",
                            "        vertical-align: top;\n",
                            "    }\n",
                            "\n",
                            "    .dataframe thead th {\n",
                            "        text-align: right;\n",
                            "    }\n",
                            "</style>\n",
                            "<table border=\"1\" class=\"dataframe\">\n",
                            "  <thead>\n",
                            "    <tr style=\"text-align: right;\">\n",
                            "      <th></th>\n",
                            "      <th>user_location</th>\n",
                            "      <th>count</th>\n",
                            "    </tr>\n",
                            "  </thead>\n",
                            "  <tbody>\n",
                            "    <tr>\n",
                            "      <th>0</th>\n",
                            "      <td>Ca. Desert, USA</td>\n",
                            "      <td>1</td>\n",
                            "    </tr>\n",
                            "    <tr>\n",
                            "      <th>590</th>\n",
                            "      <td>Philadelphia, PA</td>\n",
                            "      <td>1</td>\n",
                            "    </tr>\n",
                            "    <tr>\n",
                            "      <th>591</th>\n",
                            "      <td>Philippians 3:20 ✞</td>\n",
                            "      <td>1</td>\n",
                            "    </tr>\n",
                            "    <tr>\n",
                            "      <th>592</th>\n",
                            "      <td>Philippines</td>\n",
                            "      <td>1</td>\n",
                            "    </tr>\n",
                            "    <tr>\n",
                            "      <th>593</th>\n",
                            "      <td>Phoenix, Arizona</td>\n",
                            "      <td>1</td>\n",
                            "    </tr>\n",
                            "    <tr>\n",
                            "      <th>...</th>\n",
                            "      <td>...</td>\n",
                            "      <td>...</td>\n",
                            "    </tr>\n",
                            "    <tr>\n",
                            "      <th>404</th>\n",
                            "      <td>Los Angeles, CA</td>\n",
                            "      <td>23</td>\n",
                            "    </tr>\n",
                            "    <tr>\n",
                            "      <th>520</th>\n",
                            "      <td>New York, NY</td>\n",
                            "      <td>30</td>\n",
                            "    </tr>\n",
                            "    <tr>\n",
                            "      <th>72</th>\n",
                            "      <td>Australia</td>\n",
                            "      <td>32</td>\n",
                            "    </tr>\n",
                            "    <tr>\n",
                            "      <th>510</th>\n",
                            "      <td>New Delhi, India.</td>\n",
                            "      <td>34</td>\n",
                            "    </tr>\n",
                            "    <tr>\n",
                            "      <th>801</th>\n",
                            "      <td>United States</td>\n",
                            "      <td>45</td>\n",
                            "    </tr>\n",
                            "  </tbody>\n",
                            "</table>\n",
                            "<p>949 rows × 2 columns</p>\n",
                            "</div>"
                        ],
                        "text/plain": [
                            "          user_location  count\n",
                            "0       Ca. Desert, USA      1\n",
                            "590    Philadelphia, PA      1\n",
                            "591  Philippians 3:20 ✞      1\n",
                            "592         Philippines      1\n",
                            "593    Phoenix, Arizona      1\n",
                            "..                  ...    ...\n",
                            "404     Los Angeles, CA     23\n",
                            "520        New York, NY     30\n",
                            "72            Australia     32\n",
                            "510   New Delhi, India.     34\n",
                            "801       United States     45\n",
                            "\n",
                            "[949 rows x 2 columns]"
                        ]
                    },
                    "execution_count": 19,
                    "metadata": {},
                    "output_type": "execute_result"
                }
            ],
            "source": [
                "full_grouped = output.groupby([ 'user_location']).size().reset_index(name='count')\n",
                "full_grouped.sort_values(['count'])\n"
            ]
        },
        {
            "cell_type": "code",
            "execution_count": 20,
            "metadata": {},
            "outputs": [
                {
                    "data": {
                        "application/vnd.plotly.v1+json": {
                            "config": {
                                "plotlyServerURL": "https://plot.ly"
                            },
                            "data": [
                                {
                                    "alignmentgroup": "True",
                                    "hovertemplate": "user_location=%{x}<br>count=%{y}<extra></extra>",
                                    "legendgroup": "",
                                    "marker": {
                                        "color": "#636efa",
                                        "pattern": {
                                            "shape": ""
                                        }
                                    },
                                    "name": "",
                                    "offsetgroup": "",
                                    "orientation": "v",
                                    "showlegend": false,
                                    "textposition": "auto",
                                    "type": "bar",
                                    "x": [
                                        " Ca. Desert, USA",
                                        " Ireland",
                                        " North of Heaven SW of Hell",
                                        " U.S.A",
                                        " USA",
                                        " massachusetts USA",
                                        " 🌍",
                                        "#Bideford Devon EX39 2BA",
                                        "#Chinada",
                                        "#CovidIsAirborne Wear a Mask",
                                        "#SaveTheNetherlands",
                                        "#Wellington #Aotearoa #NZ",
                                        "#codedaily",
                                        "'Greater' Manchester",
                                        "*special place in hell*",
                                        "+65",
                                        "/etc/tmpfiles.d/trab.4u",
                                        "1211 Cathedral Street, 21201",
                                        "127.0.0.1",
                                        "155 Skinner, Nanaimo BC V9R5E8",
                                        "32counties of Ireland",
                                        "3rd rock from the sun",
                                        "4-corners USA",
                                        "40 Acres and a Mule. . . ",
                                        "41.8916325, -87.6053243",
                                        "43230",
                                        "788–790 Finchley Rd.",
                                        "98008",
                                        "A Coruña, España",
                                        "A Planet Needing Our Help",
                                        "AL, NY ",
                                        "AZ",
                                        "Adelaide South Australia",
                                        "Adelaide, South Australia",
                                        "Aireys Inlet, Australia",
                                        "Al Mangaf, Kuwait",
                                        "Alabama",
                                        "Alabama, USA",
                                        "Alaska",
                                        "Alberta, Canada",
                                        "Albury, New South Wales",
                                        "Alkmaar Graft-DeRijp Schermer",
                                        "All Over The World",
                                        "Allentown, PA",
                                        "Almelo (regio Twente)",
                                        "Already gone",
                                        "America",
                                        "Americas Finest City ",
                                        "Amsterdam en Westzaan ",
                                        "Ancient Greece... possibly.",
                                        "And you say #ChiCity",
                                        "Anglesey, United Kingdom",
                                        "Angleterre",
                                        "Ann Arbor, MI",
                                        "Argyll and Northamptonshire",
                                        "Arizona, USA",
                                        "Arkansas",
                                        "Arlington, Texas",
                                        "Arlington, VA",
                                        "Ascot, South East",
                                        "Ashington, Northumberland ",
                                        "Ashland, KY",
                                        "Athens Greece",
                                        "Atlanta",
                                        "Atlanta Georgia",
                                        "Atlanta, GA",
                                        "Atlas",
                                        "Auckland",
                                        "Aus",
                                        "Aussie",
                                        "Austin, TX",
                                        "Austin, TX and Annville, PA",
                                        "Australia",
                                        "Australia ",
                                        "Australian Capital Territory, Australia",
                                        "Australian penal colony",
                                        "Autrefois République Française",
                                        "Auvergne-Rhône-Alpes, France ",
                                        "Back in the Red Frydenberg 🐀",
                                        "Backwash of Fenerio ",
                                        "Bali, Indonesia",
                                        "Ballasalla Isle of Man",
                                        "Ballasalla, Isle of Man",
                                        "Baltimore, MD",
                                        "Bangalore,India",
                                        "Bay Area to Washington ",
                                        "Beautiful Northern California",
                                        "Bedford",
                                        "Beeswax Not Yours ",
                                        "Beirut, Lebanon and England",
                                        "Belfast",
                                        "België",
                                        "Bellevue, WA",
                                        "Belo Horizonte, Brasil",
                                        "Bend, Oregon, USA",
                                        "Berlin",
                                        "Berlin, Germany",
                                        "Best of Both Worlds🙄",
                                        "Between Redburg & Neckville",
                                        "Bihar, India",
                                        "Billerica, USA",
                                        "Birmingham, England",
                                        "Blair, Nebraska",
                                        "Bloomfield Township, MI",
                                        "Blue State",
                                        "Blue dot in Qtah ",
                                        "Bogotá, Colombia",
                                        "Bogotá, D.C., Colombia",
                                        "Bogotá, DC - Colombia",
                                        "Boise, ID",
                                        "Boorloo - Perth - WA",
                                        "Born Stamford, CT",
                                        "Boston",
                                        "Boston, MA",
                                        "Boulder,Colorado ",
                                        "Bradford, Yorkshire",
                                        "Brailsford, England",
                                        "BrainBlog tweets here.",
                                        "Brambleton, VA",
                                        "Brampton, Ontario",
                                        "Breage, Cornwall",
                                        "Brentwood Bay Vancouver Island",
                                        "Bridgend, Welsh Republic, E.U.",
                                        "Brighton",
                                        "Brighton, England",
                                        "Brisbane and the Pacific",
                                        "Brisbane, Queensland",
                                        "Bristol",
                                        "Bristol, RI",
                                        "British Columbia",
                                        "British Columbia, Canada",
                                        "Broken Hill, Australia",
                                        "Brooklyn, NY",
                                        "Buffalo, New York",
                                        "Bulanaming Gadigal Land ",
                                        "Bunnurong Land",
                                        "Burlington, Ontario",
                                        "Burnaby BC ",
                                        "By the beautiful Hudson River.",
                                        "CA",
                                        "CANADA",
                                        "CT.",
                                        "Cairo - Egypt",
                                        "Calgary",
                                        "Calgary Alberta Canada",
                                        "Calgary, AB",
                                        "Calgary, Alberta",
                                        "Calgary, Alberta, Canada",
                                        "California",
                                        "California, USA",
                                        "Calm Beach",
                                        "Cambridge uk",
                                        "Cambridge, MA",
                                        "Canada",
                                        "Canada ",
                                        "Canada's boreal forest",
                                        "Canberra",
                                        "Cancún, México",
                                        "Candlelit Uplands, Plague Isle",
                                        "Candyland 🍭",
                                        "Cannock, England",
                                        "Cape Cod, MA",
                                        "Cape Town, South Africa",
                                        "Caracas, Venezuela",
                                        "Cardiff",
                                        "Carlinia - Indian Ocean",
                                        "Casa Grande, AZ",
                                        "Caunton, England",
                                        "Cave Creek, AZ",
                                        "Cbus",
                                        "Central NYS",
                                        "Central coast, CA ",
                                        "Centro de la Ciudad de México",
                                        "Charleston, SC",
                                        "Charlottesville, VA",
                                        "Chattanooga, TN",
                                        "Chelsea/Williamsburg",
                                        "Chicago Suburbs",
                                        "Chicago, IL",
                                        "Chicago-by-way-of-Indiana",
                                        "Chicagoland",
                                        "Chihuahua, Chihuahua, MX",
                                        "Christchurch, New Zealand",
                                        "Chula Vista, CA",
                                        "Cincinnati, OH",
                                        "City of London, London",
                                        "Clovis/Germany/Cali/ATX/WA",
                                        "Clown World",
                                        "College Park, MD",
                                        "Colorado Springs, CO",
                                        "Columbus native, SE Ohio now.",
                                        "Constanţa, România",
                                        "Coordinates Unknown/ Chitowner",
                                        "Cork, Ireland",
                                        "Cornwall England",
                                        "Country Vic & Armidale, NSW",
                                        "Covidland",
                                        "Cowlitz Clackamas Tribal Land",
                                        "Crete, Greece",
                                        "Crewe, UK",
                                        "Cromarty, Scotland",
                                        "CrowSalishKootenaiCheyenneLand",
                                        "Częstochowa",
                                        "Córdoba, Argentina",
                                        "DMV",
                                        "Dallas, TX",
                                        "Danville Il",
                                        "Darkinjung Country",
                                        "Darnestown, MD",
                                        "Dartmoor, West Devon",
                                        "Dc",
                                        "Decatur Ga",
                                        "Delhi",
                                        "Denver, CO",
                                        "Denver, Colorado",
                                        "Detroit, MI",
                                        "Deutschland",
                                        "Devon. EX15 3BS",
                                        "Dhaka, Bangladesh",
                                        "Dominican Republic",
                                        "Doncaster-ish",
                                        "Down South",
                                        "Draper, UT",
                                        "Druid Hills, GA",
                                        "Dubai",
                                        "Dubbo, New South Wales",
                                        "Dublin",
                                        "Dundee, Scotland",
                                        "Dunedin, Fla.",
                                        "ETSU College of Public Health",
                                        "EU SA US 🗳️⚖️",
                                        "EVERYONE, EVERYWHERE",
                                        "Earth",
                                        "Earth ",
                                        "Earth's Moon",
                                        "Earth-Three 🇺🇸🇺🇸🇺🇸🇺🇸",
                                        "East Bay, CA",
                                        "East Kilbride, Scotland",
                                        "East Kootenay",
                                        "East LDN / Sexy Essex ",
                                        "East Lansing, MI",
                                        "East Midlands, England",
                                        "East of England",
                                        "Eastbourne, England",
                                        "Ecuador",
                                        "Edinburgh",
                                        "Edinburgh, Scotland",
                                        "Edmonton Alberta",
                                        "Edmonton, Alberta",
                                        "Edmonton, Alberta, Canada",
                                        "El Salvador",
                                        "El mundo mundial ",
                                        "Ely, Cambridgeshire. UK",
                                        "En algún lugar de la Mancha...",
                                        "England & Australia 🇦🇺🇬🇧",
                                        "England, UK",
                                        "England, United Kingdom",
                                        "Essendon, Melbourne, Australia",
                                        "Essex, UK",
                                        "Estados Unidos",
                                        "Ethiopia",
                                        "Europe",
                                        "Europe ",
                                        "Evergreen, CO | Laguna Bch, CA",
                                        "Everywhere and Nowhere",
                                        "Everywhere!",
                                        "Exeter",
                                        "FL the land of the free!",
                                        "Fairfax County, VA",
                                        "Farmington Hills, MI",
                                        "Filipinas",
                                        "Florida",
                                        "Florida, USA",
                                        "Follow me to freedom here:",
                                        "Foot of the N Yorks Moors, UK",
                                        "Fort Worth, Texas",
                                        "Frankfort, Ky.",
                                        "Frederick MD",
                                        "Fredericksburg, VA",
                                        "Ft. Worth, TX",
                                        "Gadigal Country / Sydney Au",
                                        "Gadigal land",
                                        "Galway, Ireland",
                                        "Gardena, CA",
                                        "Georgia, USA",
                                        "Germany",
                                        "Glasgow/ Wellington/ Dunedin",
                                        "Global",
                                        "Global Citizen ",
                                        "Gold Coast Qld",
                                        "GomezCounty",
                                        "Gondek For Mayor",
                                        "Goulburn",
                                        "Gower wales",
                                        "Grand Rapids, MI",
                                        "Great Falls, MT",
                                        "Greater Vancouver",
                                        "Greenwich, CT",
                                        "Greenwich, London",
                                        "Griffith University, Brisbane",
                                        "Gulf Coast - Texas",
                                        "Gustavo A. Madero, Distrito Fe",
                                        "Hagar Ontario Canada",
                                        "Haliburton not Halliburton",
                                        "Halifax, Nova Scotia",
                                        "Hampshire England Europe",
                                        "Hampshire, UK",
                                        "Harrow, Ontario",
                                        "Hatfield, England",
                                        "Hawaii, USA",
                                        "Haxby, York, UK",
                                        "Heartland",
                                        "Heber, AZ",
                                        "Helena, MT",
                                        "Hellhole of the South Pacific",
                                        "Here",
                                        "Here There and Everywhere ",
                                        "Hereford, England",
                                        "Hindley, Wigan",
                                        "Hiperespacio.",
                                        "Hollywood,Fl.",
                                        "Homosassa Springs, FL",
                                        "Honolulu, Hawaii",
                                        "Houston, TX",
                                        "Houston, Texas",
                                        "Howell, NJ",
                                        "Hoylake, England",
                                        "Huddersfield, England",
                                        "Humeston. Ia",
                                        "Humpty Doo, Northern Territory",
                                        "Hyderabad India",
                                        "Hyderabad, India",
                                        "Hyderabad, India / Dallas",
                                        "I don't know where I belong ",
                                        "Idk",
                                        "Ilkley town",
                                        "Illinois, USA",
                                        "India",
                                        "Indiana",
                                        "Indiana, USA",
                                        "Indianapolis, IN",
                                        "Indonesia",
                                        "Instillation 07 ",
                                        "International News Channel",
                                        "Iowa",
                                        "Ireland",
                                        "Is this even America? wtf",
                                        "Isle of Man",
                                        "Italia",
                                        "JAPAN",
                                        "Jacksonville, FL",
                                        "Jamaica",
                                        "Jammu And Kashmir",
                                        "Japan.",
                                        "Johannesburg",
                                        "Kabul, Afghanistan",
                                        "Kampala",
                                        "Karlsruhe, Germany",
                                        "Kathu, South Africa",
                                        "Keiki o ka ʻĀina ",
                                        "Kendall, FL",
                                        "Kent, England",
                                        "Kentucky, USA",
                                        "Kerala, India",
                                        "Kilfenora, Co. Clare, Ireland.",
                                        "Knoxville, TN",
                                        "Korea",
                                        "Kosovo",
                                        "Kuala Lumpur, Wilayah Persekut",
                                        "Kuku Yalanji country",
                                        "LA",
                                        "Lancaster, NY",
                                        "Land of the Free for now.",
                                        "Landgraaf",
                                        "Larkspur, CA",
                                        "Las Vegas, NV",
                                        "Las Vegas, NV ",
                                        "Las Vegas, Nevada",
                                        "Laurel Highlands, Pennsylvania",
                                        "Le Monde",
                                        "Ledbury, England",
                                        "Leeds",
                                        "Leeside",
                                        "Let Me Off Uptown",
                                        "Lethbridge, Alberta",
                                        "Lexington, KY",
                                        "Limerick, Ireland",
                                        "Little England",
                                        "Little Venice, London, NW8 8HU",
                                        "Littleton, CO USA",
                                        "Live in TkPk",
                                        "Liverpool",
                                        "Liverpool, England",
                                        "Liverpool/Stourbridge",
                                        "London",
                                        "London UK",
                                        "London, England",
                                        "London, England, 51st State",
                                        "London, ON, Canada",
                                        "London/Manchester/NY/Marbella",
                                        "Long Beach, CA",
                                        "Long Island, NY",
                                        "Long Island, New York, USA",
                                        "Longville, MN",
                                        "Los Angeles, CA",
                                        "Los Angeles, Ca",
                                        "Los Angeles, California",
                                        "Los Angeles/Zombie Central",
                                        "Lostwithiel, Cornwall",
                                        "Louisiana, USA",
                                        "Love❤️",
                                        "Lovington, NM",
                                        "Low Earth Orbit (very low) ",
                                        "Lower Hunter, Australia",
                                        "MAGA Country ",
                                        "MF world",
                                        "MIA",
                                        "MN",
                                        "MT",
                                        "Madison, WI",
                                        "Madrid, Comunidad de Madrid",
                                        "Maghull, Liverpool, England",
                                        "Maidstone, South East",
                                        "Mainely rent free in your head",
                                        "Manchester, EU",
                                        "Manchester, England",
                                        "Mandaluyong City",
                                        "Mangalore, India",
                                        "Manhattan, NY",
                                        "Manhattan,NY. Redondo Beach,LA",
                                        "Manila, Philippines",
                                        "Manitoba, Canada",
                                        "Maryland USA",
                                        "Maryland, USA",
                                        "Massachusetts",
                                        "Massachusetts, USA",
                                        "Meanjin Country",
                                        "Melbourne",
                                        "Melbourne Australia",
                                        "Melbourne, Australia",
                                        "Melbourne, Australia ",
                                        "Melbourne, Australia /Naarm ",
                                        "Melbourne, KY",
                                        "Melbourne, Victoria",
                                        "Mellbun Straya",
                                        "Memphis, Tennessee",
                                        "Mendoza - Argentina",
                                        "Mercury-All my tweets are fake",
                                        "Mernda, Melbourne",
                                        "Metaverse",
                                        "Miami, FL",
                                        "Miami, Fl",
                                        "Michigan",
                                        "Michigan USA ",
                                        "Middle Earth",
                                        "Midwest U.S.A.  Free Market Capitalist",
                                        "Milky Way",
                                        "Milton Keynes, England",
                                        "Milwaukee, WI ",
                                        "Minneapolis, Minnesota",
                                        "Minnesota",
                                        "Minnesota, USA",
                                        "Mishawaka, Indiana USA",
                                        "Mississippi, USA",
                                        "Missoula, MT",
                                        "Missoula, Montana",
                                        "Missouri, USA",
                                        "Mit meiner Liebe",
                                        "Mobile, AL",
                                        "Moh’kinsstis Treaty 7 Calgary ",
                                        "Montana",
                                        "Montana, USA",
                                        "Montana, USA  West of the Divide",
                                        "Montecito, CA",
                                        "Monterey County, California",
                                        "Montreal",
                                        "Montréal, Québec",
                                        "Moon and the stars",
                                        "Moonbound ",
                                        "Moscow, Russia",
                                        "Motherwell, Scotland. Europe",
                                        "Mountains of No. Utah",
                                        "Mpesha Mfualanga",
                                        "Multiverse",
                                        "Mumbai, Maharashtra",
                                        "Munich, Bavaria",
                                        "Munich, DE",
                                        "Murphy, NC",
                                        "Murray  Bridge South Australia",
                                        "My Sacred Grove",
                                        "México",
                                        "MΞLBOURNE, Australia",
                                        "N. Bethesda, MD",
                                        "NY",
                                        "NY ",
                                        "NY'er in FL",
                                        "NYC",
                                        "NYC Metro",
                                        "Nairobi, Kenya",
                                        "Nashville TN",
                                        "Nashville, TN",
                                        "Naugatuck, CT",
                                        "Nederland",
                                        "Nederland en Florida",
                                        "Nelson City, New Zealand",
                                        "Netherlands",
                                        "Nevada, USA",
                                        "New Brunswick, Canada",
                                        "New Caledonia, Pacific",
                                        "New Delhi, India",
                                        "New Delhi, India.",
                                        "New England",
                                        "New Haven, CT",
                                        "New Jersey",
                                        "New Jersey, USA",
                                        "New Orleans, LA",
                                        "New South Wales, Australia",
                                        "New York",
                                        "New York City",
                                        "New York USA",
                                        "New York, NY",
                                        "New York, USA",
                                        "New york-florida ",
                                        "Newark & New Brunswick, NJ",
                                        "Newcastle Upon Tyne",
                                        "Newcastle, Australia",
                                        "Newport, MN",
                                        "Newport, VT",
                                        "Newton Stewart, Scotland",
                                        "Nigeria",
                                        "Norman, Oklahoma",
                                        "North Carolina",
                                        "North Carolina, USA",
                                        "North Charleston, SC",
                                        "North East, England",
                                        "North Essex",
                                        "North Vancouver",
                                        "North Vancouver, BC",
                                        "North West, England",
                                        "North of CONUS",
                                        "Northern California",
                                        "Northern Canada",
                                        "Not of This World.",
                                        "Nouakchott, Mauritania",
                                        "Nr Cardiff, Wales",
                                        "Nrthrn Tblnds NSW",
                                        "Nuna ur bizness",
                                        "OH/PA, USA",
                                        "Oakland, CA",
                                        "Occupied Duwamish land, WA",
                                        "Occupied Ohlone Land, CA",
                                        "Ohio",
                                        "Ohio, USA",
                                        "Okie",
                                        "Oklahoma",
                                        "Olympia, WA",
                                        "On a rather big island",
                                        "On diverse inclusive culture, ",
                                        "Online",
                                        "Ontario",
                                        "Ontario, Canada",
                                        "Ontario, Canada         ",
                                        "Oregon",
                                        "Oregon, USA",
                                        "Oregon, the BLUE part",
                                        "Orillia, Ontario",
                                        "Oshawa, Ontario",
                                        "Oslo - Auckland",
                                        "Oslo, Norway",
                                        "Osoyoos, British Columbia",
                                        "Ottawa",
                                        "Ottawa, Canada",
                                        "Ottawa, Ontario",
                                        "Overland Park, KS",
                                        "Oxford",
                                        "Oz",
                                        "PA",
                                        "PDX☔️{in}UK☔️{daydreaming}",
                                        "PNW",
                                        "Pa",
                                        "Pacific Northwest USA",
                                        "Pacific Northwest, USA",
                                        "PacificPalisades",
                                        "Palm Bay, FL",
                                        "Palm Beach County, FL",
                                        "Palm Desert, CA",
                                        "Panama City, FL",
                                        "Paris, France",
                                        "Pennsylvania",
                                        "Perth, Western Australia",
                                        "Philadelphia, PA",
                                        "Philippians 3:20 ✞",
                                        "Philippines",
                                        "Phoenix, Arizona",
                                        "Pineville, Missouri ",
                                        "Piscataway Land, Maryland",
                                        "Pittsburgh, Baltimore, NYC",
                                        "Pittsburgh, PA",
                                        "Pittsburgh, Pennsylvania",
                                        "Planet Earth",
                                        "Plymouth, England",
                                        "Port Orford OR",
                                        "Port Sydney, Ontario",
                                        "Portland and Soon in the UK!!",
                                        "Portland, OR",
                                        "Portland, Or (PDX)",
                                        "Portugal - ahh...",
                                        "Pretoors",
                                        "Prince George, BC",
                                        "Prison Island",
                                        "Purcellville, VA (USA)",
                                        "Quebec",
                                        "Queens, NY",
                                        "Queensland, Australia",
                                        "Quezon City, Philippines",
                                        "Quito, Ecuador",
                                        "RQZ109007",
                                        "Raeford, NC",
                                        "Ramsgate, Kent",
                                        "Reading, England",
                                        "Recorriendo el Universo",
                                        "Red County, Tejas",
                                        "Red White Blue ",
                                        "Redcar, England",
                                        "Redding | Chico | Red Bluff ",
                                        "Redding, Calif.",
                                        "Redneck Cesspool, PA",
                                        "Regina",
                                        "Regina, SK",
                                        "Regina, SK, Canada",
                                        "Regina, SK. Treaty 4 Lands",
                                        "Regina, Saskatchewan",
                                        "Republic of Texas ",
                                        "Republic of the Philippines",
                                        "Retraité, au nord de la seine",
                                        "Richmond, Virginia",
                                        "Road to Nowhere",
                                        "Rochester, MN",
                                        "Rocky River, Ohio",
                                        "Rojava is Rojava",
                                        "Roma, Lazio",
                                        "Romsey",
                                        "Roseburg, OR",
                                        "Rotterdam, The Netherlands",
                                        "Rugby UK",
                                        "Rural America",
                                        "SC/Occupied Yamasse land",
                                        "SF Bay Area",
                                        "Sacramento, CA",
                                        "Saint Louis, Missouri, USA",
                                        "Salt Lake City, Utah, USA",
                                        "San Antonio TX",
                                        "San Antonio, TX",
                                        "San Diego",
                                        "San Diego, CA",
                                        "San Francisco, CA",
                                        "San Jacinto, CA",
                                        "San Jose",
                                        "San Juan, Puerto Rico",
                                        "Sandhurst",
                                        "Sandringham, Melbourne",
                                        "Santa Clara, CA",
                                        "Santa Monica, California",
                                        "Sarasota, FL",
                                        "Saskatchewan",
                                        "Saskatchewan, Canada",
                                        "Saskatoon Saskatchewan Canada",
                                        "Saskatoon, SK",
                                        "Saskatoon, Saskatchewan",
                                        "Scotland",
                                        "Scotland, United Kingdom",
                                        "Seattle area",
                                        "Seattle, WA",
                                        "Sekondi Takoradi, Ghana",
                                        "Seoul, South Korea🇰🇷",
                                        "Sept 2020: Now PERTH, ON 🇨🇦",
                                        "Sheffield, England",
                                        "Sheffield, United Kingdom",
                                        "Shelby, Ohio, USA",
                                        "Shelton, WA",
                                        "Shimla",
                                        "Sigenigteoag, Mi'kmaq ",
                                        "Silver Spring, MD",
                                        "Singapore",
                                        "Sixtoes Calipalooza 916 The Ment2",
                                        "Small dot in the N. Atlantic",
                                        "SoCal",
                                        "SoCal  ",
                                        "Social Affairs Editor: Scisco",
                                        "Somerset",
                                        "Somewhere S of the North Pole",
                                        "Somewhere in America ",
                                        "Somewhere in the Southwest",
                                        "South Africa",
                                        "South Carolina, USA",
                                        "South East, England",
                                        "South Florida ",
                                        "South Gloucestershire",
                                        "South Shropshire",
                                        "South West, England",
                                        "South Yorkshire",
                                        "Southampton, England",
                                        "Southern California (USA)",
                                        "Southern Delaware Beaches",
                                        "Springfield, MO",
                                        "Sri Lanka",
                                        "Sri Lankan",
                                        "St Albans, Deer Park, Melton",
                                        "St Charles, MD",
                                        "St George, UT",
                                        "St Helens, Larapuna, Tasmania",
                                        "St Maarten",
                                        "St Pete/Clearwater/Tarpon, FL",
                                        "St Petersburg, FL",
                                        "St Simons Island, GA",
                                        "Stafford Springs, CT",
                                        "Stanford, CA",
                                        "Staying Global",
                                        "Sth Gippsland",
                                        "Stirling",
                                        "Stockton-on-Tees, England",
                                        "Stoke-on-Trent, United Kingdom",
                                        "Stratford, Ontario Canada",
                                        "Sunshine Coast, Queensland",
                                        "Surrey, British Columbia",
                                        "Sussex, England",
                                        "Suva, Fiji",
                                        "Sverige",
                                        "Swadlincote, England",
                                        "Swamp",
                                        "Sweden",
                                        "Sydney",
                                        "Sydney Australia",
                                        "Sydney, Australia",
                                        "Sydney, Australia ",
                                        "Sydney, Australia.",
                                        "Sydney, New South Wales",
                                        "Sylmar Ca",
                                        "Sylvan Lake, AB",
                                        "Syracuse, NY",
                                        "Syria",
                                        "São Paulo - Brasil",
                                        "TRUMP COUNTRY🇺🇸2024🇺🇸",
                                        "Tampa, FL",
                                        "Tampa, FL • 19",
                                        "Tampa, Florida",
                                        "Taranaki based and touring NZ",
                                        "Taunton Somerset ",
                                        "Teesside",
                                        "Texas",
                                        "Texas, USA",
                                        "The Abomination of Desolation",
                                        "The City of Champions",
                                        "The Commonwealth",
                                        "The Earth",
                                        "The Free State of Florida",
                                        "The Internet",
                                        "The Left Coast",
                                        "The Moon",
                                        "The Republic of TEXAS, USA",
                                        "The Shadows",
                                        "The UK  ",
                                        "The land of Oz",
                                        "The moon",
                                        "Third Earth",
                                        "Thunder Bay, Ontario",
                                        "Tlemcen                       ",
                                        "Toronto",
                                        "Toronto Canada",
                                        "Toronto ON",
                                        "Toronto, Canada",
                                        "Toronto, Canada  and Worldwide",
                                        "Toronto, Ontario",
                                        "Toronto, Ontario, Canada",
                                        "Torrance, CA",
                                        "Treaty 13 - The Big Smoke🇨🇦",
                                        "Treaty 6 ",
                                        "Treaty Six Territory",
                                        "Trinidad and Tobago",
                                        "True North Strong and Free",
                                        "Trump Tower, Vegas, USA 🇺🇸",
                                        "Tucson, AZ",
                                        "Turkey",
                                        "Turlock, CA",
                                        "Tweets are my own and not representative of my employer",
                                        "Tübingen, Deutschland",
                                        "U.S.",
                                        "UK",
                                        "UK 00447957133245",
                                        "UK citizen of the world ",
                                        "US",
                                        "USA",
                                        "USA ",
                                        "USA Canada Mexico Arctic",
                                        "USA Right Coast",
                                        "USA and Italy",
                                        "USA 🇺🇸",
                                        "USSR",
                                        "Uk",
                                        "Unceeded Algonquin Territory",
                                        "United Kingdom",
                                        "United States",
                                        "United States ",
                                        "United States of America",
                                        "United States 🇺🇸",
                                        "UnitedStatesOfAmerica",
                                        "Utah, USA",
                                        "VA",
                                        "Valhalla, Maui & Geneva",
                                        "Valley of the Skinz ",
                                        "Vancity Canada",
                                        "Vancouver",
                                        "Vancouver BC",
                                        "Vancouver Island",
                                        "Vancouver, BC",
                                        "Vancouver, British Columbia",
                                        "Vancouver, Canada",
                                        "Vancouver/Peachland/Vavenby BC",
                                        "Vassar, MI",
                                        "Venezuela",
                                        "Very-West Gulf Coast, Florida",
                                        "Victoria BC way left of center",
                                        "Victoria,  BC ",
                                        "Victoria, Australia",
                                        "Victoria, Australia💧",
                                        "Victoria, BC, Canada",
                                        "Villa Coyoacán, Coyoacán",
                                        "Villages of the Multnomah",
                                        "Villavicencio, Colombia",
                                        "Virgin Islands, USA",
                                        "Virginia",
                                        "Virginia, USA",
                                        "Wales ",
                                        "Wales Cymru 🏴󠁧󠁢󠁷󠁬󠁳󠁿",
                                        "Wales, United Kingdom",
                                        "Walla Walla, WA",
                                        "Wangal land - Oceania",
                                        "Washington D.C.",
                                        "Washington DC",
                                        "Washington, DC",
                                        "Waukesha, WI",
                                        "Waukesha, Wisconsin",
                                        "Wellington",
                                        "Wellington City, Aotearoa",
                                        "Wellington City, New Zealand",
                                        "West Babylon, NY",
                                        "West Chester, PA USA",
                                        "West Coast, USA",
                                        "West Des Moines, IA",
                                        "West Midlands, England",
                                        "West Suburban Chicago",
                                        "Western States Pact",
                                        "Whately, MA",
                                        "Wherever the journey takes me.",
                                        "Wherever, Australia",
                                        "White Rock, British Columbia",
                                        "Who Knows?!",
                                        "Williams Lake",
                                        "Wilmington, Delaware",
                                        "Wiradjuri country | Dubbo, NSW",
                                        "Wisconsin, USA",
                                        "Woking",
                                        "Wolf-Rayet Star, Milky Way",
                                        "Wollongong",
                                        "Wonderland, Ontario",
                                        "World",
                                        "Worldwide",
                                        "Worldwide J/O Community 4 Men!",
                                        "Wurundjeri land (Melbourne)",
                                        "Yorkshire Great Britain",
                                        "Yorkshire and The Humber, England",
                                        "Yuggera country, Australia",
                                        "Yuibera Country",
                                        "Zandvoort, The Netherlands",
                                        "Zoom",
                                        "Zurich, Switzerland",
                                        "a Canadian in NYC",
                                        "any pronouns.",
                                        "australia",
                                        "back woods, NC",
                                        "bc.ca",
                                        "better late than never...",
                                        "bezawada",
                                        "billings,montana",
                                        "extremely Gen X ",
                                        "florida",
                                        "florida ",
                                        "gloucester",
                                        "he/him",
                                        "heaven",
                                        "hell",
                                        "here & now",
                                        "here ...there ...everywhere",
                                        "hove uk",
                                        "http://t.co/Y9GoRXq8rb",
                                        "iPhone: 37.776634,-122.407928",
                                        "in Lounge with the Candlestick",
                                        "india",
                                        "itching to go to Rome",
                                        "kamloops",
                                        "knocking about ",
                                        "london",
                                        "louisville ky",
                                        "medicine hat",
                                        "melbourne. aus",
                                        "near Seattle, WA",
                                        "north by north west",
                                        "north carolina",
                                        "obviam totus tyrannus",
                                        "often Vermont",
                                        "p: 604.273.9778",
                                        "politicians need #unfreepress",
                                        "san francisco",
                                        "shah alam",
                                        "she/her",
                                        "she/her/hers",
                                        "since1983promo@gmail.com ✯✯✯✯✯",
                                        "stefan.simanowitz@amnesty.org",
                                        "sw devon uk",
                                        "texASS, USA",
                                        "the fort",
                                        "the lightbulb moment centre",
                                        "theo.dennison@hounslow.gov.uk",
                                        "usa & saudia arabia",
                                        "vermont",
                                        "weymouth dorset",
                                        "winchester uk",
                                        "worldwide normally",
                                        "|🐘 🇺🇸(EDT) East Coast USA 🐎|",
                                        "Ōtautahi/Christchurch",
                                        "α ℓα ∂εяεcнα ∂ε ℓα ∂εяεcнα.",
                                        "भारत",
                                        "കേരളം",
                                        "อ.เมืองนนทบุรี, จ.นนทบุรี",
                                        "♡I like girls♡",
                                        "✉🚫 /Aviation & Cat enthusiast",
                                        "ランドナントカ",
                                        "兵庫県",
                                        "日本 東京",
                                        "日本愛知県",
                                        "🇦🇺",
                                        "🇨🇦  🇮🇱 🇬🇧",
                                        "🇨🇦 Canada",
                                        "🇫🇷🏴󠁧󠁢󠁳󠁣󠁴󠁿🇪🇺",
                                        "🇺🇸🇺🇸🇺🇸",
                                        "🇺🇸🌎🌺🌺",
                                        "🌏🌍🌎",
                                        "💙🏳️‍🌈🇪🇺🇬🇧🇵🇱🇮🇪🇮🇹",
                                        "🚫Lists & FBR w/o permission‼️"
                                    ],
                                    "xaxis": "x",
                                    "y": [
                                        1,
                                        1,
                                        1,
                                        1,
                                        1,
                                        1,
                                        1,
                                        1,
                                        1,
                                        1,
                                        1,
                                        1,
                                        1,
                                        3,
                                        1,
                                        1,
                                        1,
                                        1,
                                        1,
                                        1,
                                        1,
                                        1,
                                        1,
                                        1,
                                        1,
                                        1,
                                        1,
                                        1,
                                        1,
                                        1,
                                        1,
                                        1,
                                        1,
                                        6,
                                        1,
                                        1,
                                        3,
                                        2,
                                        1,
                                        3,
                                        1,
                                        1,
                                        1,
                                        1,
                                        1,
                                        1,
                                        1,
                                        1,
                                        1,
                                        1,
                                        1,
                                        1,
                                        1,
                                        1,
                                        6,
                                        2,
                                        1,
                                        1,
                                        1,
                                        1,
                                        1,
                                        1,
                                        1,
                                        1,
                                        1,
                                        4,
                                        1,
                                        1,
                                        1,
                                        1,
                                        7,
                                        1,
                                        32,
                                        2,
                                        1,
                                        1,
                                        1,
                                        1,
                                        1,
                                        1,
                                        2,
                                        1,
                                        1,
                                        5,
                                        1,
                                        2,
                                        1,
                                        1,
                                        1,
                                        1,
                                        1,
                                        1,
                                        1,
                                        2,
                                        1,
                                        1,
                                        1,
                                        1,
                                        1,
                                        1,
                                        1,
                                        1,
                                        1,
                                        1,
                                        1,
                                        7,
                                        1,
                                        1,
                                        1,
                                        1,
                                        1,
                                        1,
                                        1,
                                        4,
                                        1,
                                        1,
                                        1,
                                        1,
                                        1,
                                        1,
                                        1,
                                        1,
                                        1,
                                        1,
                                        1,
                                        1,
                                        2,
                                        1,
                                        3,
                                        1,
                                        1,
                                        1,
                                        3,
                                        1,
                                        1,
                                        1,
                                        1,
                                        1,
                                        1,
                                        1,
                                        1,
                                        1,
                                        1,
                                        3,
                                        1,
                                        1,
                                        1,
                                        1,
                                        5,
                                        13,
                                        1,
                                        1,
                                        1,
                                        21,
                                        1,
                                        1,
                                        1,
                                        1,
                                        1,
                                        1,
                                        1,
                                        1,
                                        1,
                                        1,
                                        1,
                                        1,
                                        1,
                                        1,
                                        2,
                                        1,
                                        1,
                                        1,
                                        1,
                                        1,
                                        2,
                                        1,
                                        1,
                                        1,
                                        3,
                                        1,
                                        1,
                                        1,
                                        2,
                                        1,
                                        2,
                                        1,
                                        1,
                                        1,
                                        1,
                                        2,
                                        1,
                                        1,
                                        1,
                                        1,
                                        1,
                                        1,
                                        1,
                                        1,
                                        1,
                                        1,
                                        1,
                                        1,
                                        1,
                                        2,
                                        1,
                                        4,
                                        1,
                                        1,
                                        1,
                                        1,
                                        2,
                                        1,
                                        2,
                                        2,
                                        1,
                                        3,
                                        1,
                                        1,
                                        1,
                                        1,
                                        1,
                                        1,
                                        1,
                                        1,
                                        1,
                                        1,
                                        1,
                                        1,
                                        1,
                                        1,
                                        1,
                                        1,
                                        15,
                                        1,
                                        1,
                                        1,
                                        1,
                                        1,
                                        1,
                                        1,
                                        1,
                                        3,
                                        1,
                                        1,
                                        1,
                                        1,
                                        2,
                                        1,
                                        3,
                                        1,
                                        1,
                                        1,
                                        1,
                                        1,
                                        1,
                                        1,
                                        6,
                                        1,
                                        1,
                                        1,
                                        1,
                                        6,
                                        1,
                                        1,
                                        1,
                                        1,
                                        1,
                                        1,
                                        1,
                                        1,
                                        1,
                                        4,
                                        10,
                                        1,
                                        1,
                                        1,
                                        1,
                                        1,
                                        1,
                                        1,
                                        1,
                                        1,
                                        1,
                                        1,
                                        1,
                                        1,
                                        1,
                                        3,
                                        1,
                                        1,
                                        1,
                                        1,
                                        1,
                                        1,
                                        1,
                                        1,
                                        2,
                                        1,
                                        1,
                                        1,
                                        1,
                                        1,
                                        1,
                                        1,
                                        1,
                                        2,
                                        1,
                                        1,
                                        1,
                                        1,
                                        1,
                                        2,
                                        1,
                                        1,
                                        1,
                                        2,
                                        1,
                                        1,
                                        1,
                                        1,
                                        1,
                                        1,
                                        1,
                                        1,
                                        1,
                                        1,
                                        1,
                                        1,
                                        1,
                                        1,
                                        1,
                                        1,
                                        1,
                                        1,
                                        1,
                                        1,
                                        1,
                                        2,
                                        1,
                                        2,
                                        3,
                                        1,
                                        1,
                                        1,
                                        1,
                                        2,
                                        1,
                                        2,
                                        2,
                                        7,
                                        1,
                                        1,
                                        1,
                                        2,
                                        1,
                                        1,
                                        1,
                                        1,
                                        1,
                                        1,
                                        1,
                                        2,
                                        1,
                                        3,
                                        1,
                                        1,
                                        1,
                                        1,
                                        1,
                                        1,
                                        1,
                                        1,
                                        1,
                                        1,
                                        1,
                                        9,
                                        1,
                                        2,
                                        1,
                                        1,
                                        1,
                                        1,
                                        2,
                                        1,
                                        1,
                                        3,
                                        1,
                                        1,
                                        1,
                                        1,
                                        1,
                                        1,
                                        1,
                                        1,
                                        8,
                                        3,
                                        6,
                                        1,
                                        1,
                                        1,
                                        2,
                                        1,
                                        1,
                                        1,
                                        23,
                                        1,
                                        3,
                                        1,
                                        1,
                                        1,
                                        1,
                                        1,
                                        1,
                                        2,
                                        1,
                                        1,
                                        5,
                                        1,
                                        1,
                                        1,
                                        1,
                                        1,
                                        1,
                                        1,
                                        1,
                                        1,
                                        1,
                                        1,
                                        1,
                                        1,
                                        1,
                                        1,
                                        1,
                                        4,
                                        1,
                                        2,
                                        1,
                                        8,
                                        3,
                                        11,
                                        2,
                                        1,
                                        1,
                                        8,
                                        1,
                                        1,
                                        1,
                                        1,
                                        1,
                                        1,
                                        1,
                                        1,
                                        1,
                                        1,
                                        1,
                                        1,
                                        1,
                                        1,
                                        1,
                                        1,
                                        2,
                                        3,
                                        1,
                                        1,
                                        2,
                                        1,
                                        2,
                                        1,
                                        1,
                                        1,
                                        2,
                                        3,
                                        1,
                                        3,
                                        1,
                                        3,
                                        2,
                                        1,
                                        1,
                                        1,
                                        1,
                                        1,
                                        1,
                                        1,
                                        1,
                                        1,
                                        1,
                                        1,
                                        1,
                                        1,
                                        1,
                                        1,
                                        1,
                                        2,
                                        1,
                                        1,
                                        2,
                                        1,
                                        1,
                                        1,
                                        1,
                                        1,
                                        1,
                                        1,
                                        1,
                                        1,
                                        1,
                                        1,
                                        1,
                                        5,
                                        34,
                                        1,
                                        1,
                                        1,
                                        2,
                                        1,
                                        3,
                                        8,
                                        5,
                                        1,
                                        30,
                                        7,
                                        1,
                                        1,
                                        1,
                                        1,
                                        1,
                                        1,
                                        1,
                                        2,
                                        1,
                                        3,
                                        4,
                                        1,
                                        3,
                                        1,
                                        1,
                                        2,
                                        1,
                                        1,
                                        2,
                                        2,
                                        1,
                                        1,
                                        1,
                                        2,
                                        1,
                                        1,
                                        6,
                                        1,
                                        1,
                                        1,
                                        1,
                                        1,
                                        1,
                                        1,
                                        2,
                                        1,
                                        4,
                                        2,
                                        10,
                                        1,
                                        2,
                                        4,
                                        1,
                                        1,
                                        1,
                                        2,
                                        1,
                                        1,
                                        1,
                                        1,
                                        2,
                                        1,
                                        1,
                                        1,
                                        1,
                                        1,
                                        3,
                                        2,
                                        1,
                                        1,
                                        1,
                                        1,
                                        1,
                                        2,
                                        1,
                                        2,
                                        1,
                                        2,
                                        1,
                                        1,
                                        1,
                                        1,
                                        2,
                                        1,
                                        1,
                                        1,
                                        1,
                                        2,
                                        2,
                                        1,
                                        1,
                                        1,
                                        6,
                                        1,
                                        1,
                                        1,
                                        2,
                                        1,
                                        1,
                                        1,
                                        1,
                                        4,
                                        1,
                                        1,
                                        1,
                                        1,
                                        1,
                                        1,
                                        1,
                                        1,
                                        1,
                                        1,
                                        1,
                                        1,
                                        2,
                                        1,
                                        1,
                                        1,
                                        1,
                                        8,
                                        1,
                                        1,
                                        1,
                                        2,
                                        1,
                                        1,
                                        1,
                                        1,
                                        1,
                                        2,
                                        1,
                                        1,
                                        1,
                                        1,
                                        1,
                                        1,
                                        4,
                                        1,
                                        1,
                                        1,
                                        1,
                                        1,
                                        3,
                                        3,
                                        1,
                                        1,
                                        1,
                                        1,
                                        1,
                                        1,
                                        1,
                                        1,
                                        1,
                                        3,
                                        1,
                                        1,
                                        1,
                                        5,
                                        8,
                                        2,
                                        7,
                                        1,
                                        1,
                                        1,
                                        1,
                                        1,
                                        1,
                                        1,
                                        1,
                                        1,
                                        1,
                                        2,
                                        1,
                                        2,
                                        1,
                                        1,
                                        1,
                                        1,
                                        2,
                                        1,
                                        1,
                                        1,
                                        1,
                                        2,
                                        1,
                                        1,
                                        1,
                                        2,
                                        1,
                                        1,
                                        1,
                                        1,
                                        1,
                                        2,
                                        1,
                                        1,
                                        1,
                                        1,
                                        1,
                                        1,
                                        1,
                                        1,
                                        1,
                                        1,
                                        2,
                                        1,
                                        3,
                                        1,
                                        1,
                                        1,
                                        1,
                                        1,
                                        1,
                                        1,
                                        2,
                                        1,
                                        1,
                                        1,
                                        1,
                                        3,
                                        2,
                                        3,
                                        1,
                                        1,
                                        4,
                                        1,
                                        1,
                                        1,
                                        1,
                                        1,
                                        1,
                                        2,
                                        1,
                                        1,
                                        1,
                                        1,
                                        1,
                                        5,
                                        1,
                                        1,
                                        1,
                                        1,
                                        1,
                                        1,
                                        1,
                                        2,
                                        1,
                                        1,
                                        1,
                                        1,
                                        1,
                                        2,
                                        1,
                                        1,
                                        2,
                                        3,
                                        1,
                                        1,
                                        1,
                                        6,
                                        9,
                                        1,
                                        1,
                                        1,
                                        1,
                                        1,
                                        1,
                                        1,
                                        1,
                                        1,
                                        1,
                                        1,
                                        1,
                                        1,
                                        1,
                                        8,
                                        1,
                                        1,
                                        2,
                                        15,
                                        1,
                                        1,
                                        1,
                                        1,
                                        2,
                                        1,
                                        3,
                                        1,
                                        10,
                                        45,
                                        1,
                                        1,
                                        2,
                                        7,
                                        4,
                                        1,
                                        2,
                                        4,
                                        1,
                                        2,
                                        2,
                                        1,
                                        4,
                                        3,
                                        1,
                                        1,
                                        1,
                                        1,
                                        1,
                                        1,
                                        1,
                                        1,
                                        1,
                                        1,
                                        1,
                                        1,
                                        1,
                                        2,
                                        1,
                                        2,
                                        1,
                                        2,
                                        2,
                                        1,
                                        1,
                                        2,
                                        4,
                                        10,
                                        1,
                                        1,
                                        1,
                                        1,
                                        1,
                                        1,
                                        1,
                                        1,
                                        1,
                                        1,
                                        1,
                                        4,
                                        1,
                                        1,
                                        2,
                                        1,
                                        2,
                                        2,
                                        1,
                                        1,
                                        3,
                                        1,
                                        1,
                                        1,
                                        1,
                                        2,
                                        2,
                                        1,
                                        1,
                                        1,
                                        2,
                                        1,
                                        2,
                                        1,
                                        1,
                                        2,
                                        1,
                                        1,
                                        1,
                                        1,
                                        1,
                                        1,
                                        1,
                                        1,
                                        1,
                                        1,
                                        1,
                                        2,
                                        2,
                                        1,
                                        1,
                                        1,
                                        2,
                                        1,
                                        1,
                                        1,
                                        1,
                                        1,
                                        1,
                                        1,
                                        1,
                                        1,
                                        1,
                                        1,
                                        1,
                                        1,
                                        1,
                                        1,
                                        1,
                                        1,
                                        1,
                                        2,
                                        1,
                                        1,
                                        1,
                                        1,
                                        1,
                                        1,
                                        1,
                                        1,
                                        1,
                                        1,
                                        1,
                                        1,
                                        1,
                                        3,
                                        1,
                                        1,
                                        1,
                                        1,
                                        1,
                                        2,
                                        20,
                                        1,
                                        1,
                                        1,
                                        1,
                                        1,
                                        1,
                                        1,
                                        2,
                                        1,
                                        1,
                                        1,
                                        1,
                                        1,
                                        1,
                                        1,
                                        1
                                    ],
                                    "yaxis": "y"
                                }
                            ],
                            "layout": {
                                "barmode": "relative",
                                "legend": {
                                    "tracegroupgap": 0
                                },
                                "margin": {
                                    "t": 60
                                },
                                "template": {
                                    "data": {
                                        "bar": [
                                            {
                                                "error_x": {
                                                    "color": "#2a3f5f"
                                                },
                                                "error_y": {
                                                    "color": "#2a3f5f"
                                                },
                                                "marker": {
                                                    "line": {
                                                        "color": "#E5ECF6",
                                                        "width": 0.5
                                                    },
                                                    "pattern": {
                                                        "fillmode": "overlay",
                                                        "size": 10,
                                                        "solidity": 0.2
                                                    }
                                                },
                                                "type": "bar"
                                            }
                                        ],
                                        "barpolar": [
                                            {
                                                "marker": {
                                                    "line": {
                                                        "color": "#E5ECF6",
                                                        "width": 0.5
                                                    },
                                                    "pattern": {
                                                        "fillmode": "overlay",
                                                        "size": 10,
                                                        "solidity": 0.2
                                                    }
                                                },
                                                "type": "barpolar"
                                            }
                                        ],
                                        "carpet": [
                                            {
                                                "aaxis": {
                                                    "endlinecolor": "#2a3f5f",
                                                    "gridcolor": "white",
                                                    "linecolor": "white",
                                                    "minorgridcolor": "white",
                                                    "startlinecolor": "#2a3f5f"
                                                },
                                                "baxis": {
                                                    "endlinecolor": "#2a3f5f",
                                                    "gridcolor": "white",
                                                    "linecolor": "white",
                                                    "minorgridcolor": "white",
                                                    "startlinecolor": "#2a3f5f"
                                                },
                                                "type": "carpet"
                                            }
                                        ],
                                        "choropleth": [
                                            {
                                                "colorbar": {
                                                    "outlinewidth": 0,
                                                    "ticks": ""
                                                },
                                                "type": "choropleth"
                                            }
                                        ],
                                        "contour": [
                                            {
                                                "colorbar": {
                                                    "outlinewidth": 0,
                                                    "ticks": ""
                                                },
                                                "colorscale": [
                                                    [
                                                        0,
                                                        "#0d0887"
                                                    ],
                                                    [
                                                        0.1111111111111111,
                                                        "#46039f"
                                                    ],
                                                    [
                                                        0.2222222222222222,
                                                        "#7201a8"
                                                    ],
                                                    [
                                                        0.3333333333333333,
                                                        "#9c179e"
                                                    ],
                                                    [
                                                        0.4444444444444444,
                                                        "#bd3786"
                                                    ],
                                                    [
                                                        0.5555555555555556,
                                                        "#d8576b"
                                                    ],
                                                    [
                                                        0.6666666666666666,
                                                        "#ed7953"
                                                    ],
                                                    [
                                                        0.7777777777777778,
                                                        "#fb9f3a"
                                                    ],
                                                    [
                                                        0.8888888888888888,
                                                        "#fdca26"
                                                    ],
                                                    [
                                                        1,
                                                        "#f0f921"
                                                    ]
                                                ],
                                                "type": "contour"
                                            }
                                        ],
                                        "contourcarpet": [
                                            {
                                                "colorbar": {
                                                    "outlinewidth": 0,
                                                    "ticks": ""
                                                },
                                                "type": "contourcarpet"
                                            }
                                        ],
                                        "heatmap": [
                                            {
                                                "colorbar": {
                                                    "outlinewidth": 0,
                                                    "ticks": ""
                                                },
                                                "colorscale": [
                                                    [
                                                        0,
                                                        "#0d0887"
                                                    ],
                                                    [
                                                        0.1111111111111111,
                                                        "#46039f"
                                                    ],
                                                    [
                                                        0.2222222222222222,
                                                        "#7201a8"
                                                    ],
                                                    [
                                                        0.3333333333333333,
                                                        "#9c179e"
                                                    ],
                                                    [
                                                        0.4444444444444444,
                                                        "#bd3786"
                                                    ],
                                                    [
                                                        0.5555555555555556,
                                                        "#d8576b"
                                                    ],
                                                    [
                                                        0.6666666666666666,
                                                        "#ed7953"
                                                    ],
                                                    [
                                                        0.7777777777777778,
                                                        "#fb9f3a"
                                                    ],
                                                    [
                                                        0.8888888888888888,
                                                        "#fdca26"
                                                    ],
                                                    [
                                                        1,
                                                        "#f0f921"
                                                    ]
                                                ],
                                                "type": "heatmap"
                                            }
                                        ],
                                        "heatmapgl": [
                                            {
                                                "colorbar": {
                                                    "outlinewidth": 0,
                                                    "ticks": ""
                                                },
                                                "colorscale": [
                                                    [
                                                        0,
                                                        "#0d0887"
                                                    ],
                                                    [
                                                        0.1111111111111111,
                                                        "#46039f"
                                                    ],
                                                    [
                                                        0.2222222222222222,
                                                        "#7201a8"
                                                    ],
                                                    [
                                                        0.3333333333333333,
                                                        "#9c179e"
                                                    ],
                                                    [
                                                        0.4444444444444444,
                                                        "#bd3786"
                                                    ],
                                                    [
                                                        0.5555555555555556,
                                                        "#d8576b"
                                                    ],
                                                    [
                                                        0.6666666666666666,
                                                        "#ed7953"
                                                    ],
                                                    [
                                                        0.7777777777777778,
                                                        "#fb9f3a"
                                                    ],
                                                    [
                                                        0.8888888888888888,
                                                        "#fdca26"
                                                    ],
                                                    [
                                                        1,
                                                        "#f0f921"
                                                    ]
                                                ],
                                                "type": "heatmapgl"
                                            }
                                        ],
                                        "histogram": [
                                            {
                                                "marker": {
                                                    "pattern": {
                                                        "fillmode": "overlay",
                                                        "size": 10,
                                                        "solidity": 0.2
                                                    }
                                                },
                                                "type": "histogram"
                                            }
                                        ],
                                        "histogram2d": [
                                            {
                                                "colorbar": {
                                                    "outlinewidth": 0,
                                                    "ticks": ""
                                                },
                                                "colorscale": [
                                                    [
                                                        0,
                                                        "#0d0887"
                                                    ],
                                                    [
                                                        0.1111111111111111,
                                                        "#46039f"
                                                    ],
                                                    [
                                                        0.2222222222222222,
                                                        "#7201a8"
                                                    ],
                                                    [
                                                        0.3333333333333333,
                                                        "#9c179e"
                                                    ],
                                                    [
                                                        0.4444444444444444,
                                                        "#bd3786"
                                                    ],
                                                    [
                                                        0.5555555555555556,
                                                        "#d8576b"
                                                    ],
                                                    [
                                                        0.6666666666666666,
                                                        "#ed7953"
                                                    ],
                                                    [
                                                        0.7777777777777778,
                                                        "#fb9f3a"
                                                    ],
                                                    [
                                                        0.8888888888888888,
                                                        "#fdca26"
                                                    ],
                                                    [
                                                        1,
                                                        "#f0f921"
                                                    ]
                                                ],
                                                "type": "histogram2d"
                                            }
                                        ],
                                        "histogram2dcontour": [
                                            {
                                                "colorbar": {
                                                    "outlinewidth": 0,
                                                    "ticks": ""
                                                },
                                                "colorscale": [
                                                    [
                                                        0,
                                                        "#0d0887"
                                                    ],
                                                    [
                                                        0.1111111111111111,
                                                        "#46039f"
                                                    ],
                                                    [
                                                        0.2222222222222222,
                                                        "#7201a8"
                                                    ],
                                                    [
                                                        0.3333333333333333,
                                                        "#9c179e"
                                                    ],
                                                    [
                                                        0.4444444444444444,
                                                        "#bd3786"
                                                    ],
                                                    [
                                                        0.5555555555555556,
                                                        "#d8576b"
                                                    ],
                                                    [
                                                        0.6666666666666666,
                                                        "#ed7953"
                                                    ],
                                                    [
                                                        0.7777777777777778,
                                                        "#fb9f3a"
                                                    ],
                                                    [
                                                        0.8888888888888888,
                                                        "#fdca26"
                                                    ],
                                                    [
                                                        1,
                                                        "#f0f921"
                                                    ]
                                                ],
                                                "type": "histogram2dcontour"
                                            }
                                        ],
                                        "mesh3d": [
                                            {
                                                "colorbar": {
                                                    "outlinewidth": 0,
                                                    "ticks": ""
                                                },
                                                "type": "mesh3d"
                                            }
                                        ],
                                        "parcoords": [
                                            {
                                                "line": {
                                                    "colorbar": {
                                                        "outlinewidth": 0,
                                                        "ticks": ""
                                                    }
                                                },
                                                "type": "parcoords"
                                            }
                                        ],
                                        "pie": [
                                            {
                                                "automargin": true,
                                                "type": "pie"
                                            }
                                        ],
                                        "scatter": [
                                            {
                                                "marker": {
                                                    "colorbar": {
                                                        "outlinewidth": 0,
                                                        "ticks": ""
                                                    }
                                                },
                                                "type": "scatter"
                                            }
                                        ],
                                        "scatter3d": [
                                            {
                                                "line": {
                                                    "colorbar": {
                                                        "outlinewidth": 0,
                                                        "ticks": ""
                                                    }
                                                },
                                                "marker": {
                                                    "colorbar": {
                                                        "outlinewidth": 0,
                                                        "ticks": ""
                                                    }
                                                },
                                                "type": "scatter3d"
                                            }
                                        ],
                                        "scattercarpet": [
                                            {
                                                "marker": {
                                                    "colorbar": {
                                                        "outlinewidth": 0,
                                                        "ticks": ""
                                                    }
                                                },
                                                "type": "scattercarpet"
                                            }
                                        ],
                                        "scattergeo": [
                                            {
                                                "marker": {
                                                    "colorbar": {
                                                        "outlinewidth": 0,
                                                        "ticks": ""
                                                    }
                                                },
                                                "type": "scattergeo"
                                            }
                                        ],
                                        "scattergl": [
                                            {
                                                "marker": {
                                                    "colorbar": {
                                                        "outlinewidth": 0,
                                                        "ticks": ""
                                                    }
                                                },
                                                "type": "scattergl"
                                            }
                                        ],
                                        "scattermapbox": [
                                            {
                                                "marker": {
                                                    "colorbar": {
                                                        "outlinewidth": 0,
                                                        "ticks": ""
                                                    }
                                                },
                                                "type": "scattermapbox"
                                            }
                                        ],
                                        "scatterpolar": [
                                            {
                                                "marker": {
                                                    "colorbar": {
                                                        "outlinewidth": 0,
                                                        "ticks": ""
                                                    }
                                                },
                                                "type": "scatterpolar"
                                            }
                                        ],
                                        "scatterpolargl": [
                                            {
                                                "marker": {
                                                    "colorbar": {
                                                        "outlinewidth": 0,
                                                        "ticks": ""
                                                    }
                                                },
                                                "type": "scatterpolargl"
                                            }
                                        ],
                                        "scatterternary": [
                                            {
                                                "marker": {
                                                    "colorbar": {
                                                        "outlinewidth": 0,
                                                        "ticks": ""
                                                    }
                                                },
                                                "type": "scatterternary"
                                            }
                                        ],
                                        "surface": [
                                            {
                                                "colorbar": {
                                                    "outlinewidth": 0,
                                                    "ticks": ""
                                                },
                                                "colorscale": [
                                                    [
                                                        0,
                                                        "#0d0887"
                                                    ],
                                                    [
                                                        0.1111111111111111,
                                                        "#46039f"
                                                    ],
                                                    [
                                                        0.2222222222222222,
                                                        "#7201a8"
                                                    ],
                                                    [
                                                        0.3333333333333333,
                                                        "#9c179e"
                                                    ],
                                                    [
                                                        0.4444444444444444,
                                                        "#bd3786"
                                                    ],
                                                    [
                                                        0.5555555555555556,
                                                        "#d8576b"
                                                    ],
                                                    [
                                                        0.6666666666666666,
                                                        "#ed7953"
                                                    ],
                                                    [
                                                        0.7777777777777778,
                                                        "#fb9f3a"
                                                    ],
                                                    [
                                                        0.8888888888888888,
                                                        "#fdca26"
                                                    ],
                                                    [
                                                        1,
                                                        "#f0f921"
                                                    ]
                                                ],
                                                "type": "surface"
                                            }
                                        ],
                                        "table": [
                                            {
                                                "cells": {
                                                    "fill": {
                                                        "color": "#EBF0F8"
                                                    },
                                                    "line": {
                                                        "color": "white"
                                                    }
                                                },
                                                "header": {
                                                    "fill": {
                                                        "color": "#C8D4E3"
                                                    },
                                                    "line": {
                                                        "color": "white"
                                                    }
                                                },
                                                "type": "table"
                                            }
                                        ]
                                    },
                                    "layout": {
                                        "annotationdefaults": {
                                            "arrowcolor": "#2a3f5f",
                                            "arrowhead": 0,
                                            "arrowwidth": 1
                                        },
                                        "autotypenumbers": "strict",
                                        "coloraxis": {
                                            "colorbar": {
                                                "outlinewidth": 0,
                                                "ticks": ""
                                            }
                                        },
                                        "colorscale": {
                                            "diverging": [
                                                [
                                                    0,
                                                    "#8e0152"
                                                ],
                                                [
                                                    0.1,
                                                    "#c51b7d"
                                                ],
                                                [
                                                    0.2,
                                                    "#de77ae"
                                                ],
                                                [
                                                    0.3,
                                                    "#f1b6da"
                                                ],
                                                [
                                                    0.4,
                                                    "#fde0ef"
                                                ],
                                                [
                                                    0.5,
                                                    "#f7f7f7"
                                                ],
                                                [
                                                    0.6,
                                                    "#e6f5d0"
                                                ],
                                                [
                                                    0.7,
                                                    "#b8e186"
                                                ],
                                                [
                                                    0.8,
                                                    "#7fbc41"
                                                ],
                                                [
                                                    0.9,
                                                    "#4d9221"
                                                ],
                                                [
                                                    1,
                                                    "#276419"
                                                ]
                                            ],
                                            "sequential": [
                                                [
                                                    0,
                                                    "#0d0887"
                                                ],
                                                [
                                                    0.1111111111111111,
                                                    "#46039f"
                                                ],
                                                [
                                                    0.2222222222222222,
                                                    "#7201a8"
                                                ],
                                                [
                                                    0.3333333333333333,
                                                    "#9c179e"
                                                ],
                                                [
                                                    0.4444444444444444,
                                                    "#bd3786"
                                                ],
                                                [
                                                    0.5555555555555556,
                                                    "#d8576b"
                                                ],
                                                [
                                                    0.6666666666666666,
                                                    "#ed7953"
                                                ],
                                                [
                                                    0.7777777777777778,
                                                    "#fb9f3a"
                                                ],
                                                [
                                                    0.8888888888888888,
                                                    "#fdca26"
                                                ],
                                                [
                                                    1,
                                                    "#f0f921"
                                                ]
                                            ],
                                            "sequentialminus": [
                                                [
                                                    0,
                                                    "#0d0887"
                                                ],
                                                [
                                                    0.1111111111111111,
                                                    "#46039f"
                                                ],
                                                [
                                                    0.2222222222222222,
                                                    "#7201a8"
                                                ],
                                                [
                                                    0.3333333333333333,
                                                    "#9c179e"
                                                ],
                                                [
                                                    0.4444444444444444,
                                                    "#bd3786"
                                                ],
                                                [
                                                    0.5555555555555556,
                                                    "#d8576b"
                                                ],
                                                [
                                                    0.6666666666666666,
                                                    "#ed7953"
                                                ],
                                                [
                                                    0.7777777777777778,
                                                    "#fb9f3a"
                                                ],
                                                [
                                                    0.8888888888888888,
                                                    "#fdca26"
                                                ],
                                                [
                                                    1,
                                                    "#f0f921"
                                                ]
                                            ]
                                        },
                                        "colorway": [
                                            "#636efa",
                                            "#EF553B",
                                            "#00cc96",
                                            "#ab63fa",
                                            "#FFA15A",
                                            "#19d3f3",
                                            "#FF6692",
                                            "#B6E880",
                                            "#FF97FF",
                                            "#FECB52"
                                        ],
                                        "font": {
                                            "color": "#2a3f5f"
                                        },
                                        "geo": {
                                            "bgcolor": "white",
                                            "lakecolor": "white",
                                            "landcolor": "#E5ECF6",
                                            "showlakes": true,
                                            "showland": true,
                                            "subunitcolor": "white"
                                        },
                                        "hoverlabel": {
                                            "align": "left"
                                        },
                                        "hovermode": "closest",
                                        "mapbox": {
                                            "style": "light"
                                        },
                                        "paper_bgcolor": "white",
                                        "plot_bgcolor": "#E5ECF6",
                                        "polar": {
                                            "angularaxis": {
                                                "gridcolor": "white",
                                                "linecolor": "white",
                                                "ticks": ""
                                            },
                                            "bgcolor": "#E5ECF6",
                                            "radialaxis": {
                                                "gridcolor": "white",
                                                "linecolor": "white",
                                                "ticks": ""
                                            }
                                        },
                                        "scene": {
                                            "xaxis": {
                                                "backgroundcolor": "#E5ECF6",
                                                "gridcolor": "white",
                                                "gridwidth": 2,
                                                "linecolor": "white",
                                                "showbackground": true,
                                                "ticks": "",
                                                "zerolinecolor": "white"
                                            },
                                            "yaxis": {
                                                "backgroundcolor": "#E5ECF6",
                                                "gridcolor": "white",
                                                "gridwidth": 2,
                                                "linecolor": "white",
                                                "showbackground": true,
                                                "ticks": "",
                                                "zerolinecolor": "white"
                                            },
                                            "zaxis": {
                                                "backgroundcolor": "#E5ECF6",
                                                "gridcolor": "white",
                                                "gridwidth": 2,
                                                "linecolor": "white",
                                                "showbackground": true,
                                                "ticks": "",
                                                "zerolinecolor": "white"
                                            }
                                        },
                                        "shapedefaults": {
                                            "line": {
                                                "color": "#2a3f5f"
                                            }
                                        },
                                        "ternary": {
                                            "aaxis": {
                                                "gridcolor": "white",
                                                "linecolor": "white",
                                                "ticks": ""
                                            },
                                            "baxis": {
                                                "gridcolor": "white",
                                                "linecolor": "white",
                                                "ticks": ""
                                            },
                                            "bgcolor": "#E5ECF6",
                                            "caxis": {
                                                "gridcolor": "white",
                                                "linecolor": "white",
                                                "ticks": ""
                                            }
                                        },
                                        "title": {
                                            "x": 0.05
                                        },
                                        "xaxis": {
                                            "automargin": true,
                                            "gridcolor": "white",
                                            "linecolor": "white",
                                            "ticks": "",
                                            "title": {
                                                "standoff": 15
                                            },
                                            "zerolinecolor": "white",
                                            "zerolinewidth": 2
                                        },
                                        "yaxis": {
                                            "automargin": true,
                                            "gridcolor": "white",
                                            "linecolor": "white",
                                            "ticks": "",
                                            "title": {
                                                "standoff": 15
                                            },
                                            "zerolinecolor": "white",
                                            "zerolinewidth": 2
                                        }
                                    }
                                },
                                "xaxis": {
                                    "anchor": "y",
                                    "domain": [
                                        0,
                                        1
                                    ],
                                    "title": {
                                        "text": "user_location"
                                    }
                                },
                                "yaxis": {
                                    "anchor": "x",
                                    "domain": [
                                        0,
                                        1
                                    ],
                                    "title": {
                                        "text": "count"
                                    }
                                }
                            }
                        }
                    },
                    "metadata": {},
                    "output_type": "display_data"
                }
            ],
            "source": [
                "fig = px.bar(full_grouped, x='user_location', y='count')\n",
                "fig.show()"
            ]
        },
        {
            "cell_type": "code",
            "execution_count": null,
            "metadata": {},
            "outputs": [],
            "source": []
        }
    ],
    "metadata": {
        "interpreter": {
            "hash": "59c7f5e736a5177e1a2f3dd854fad37bbe6ead70d689d660775bfa2132ff2add"
        },
        "kernelspec": {
            "display_name": "Python 3.8.3 64-bit ('base': conda)",
            "name": "python3"
        },
        "language_info": {
            "codemirror_mode": {
                "name": "ipython",
                "version": 3
            },
            "file_extension": ".py",
            "mimetype": "text/x-python",
            "name": "python",
            "nbconvert_exporter": "python",
            "pygments_lexer": "ipython3",
            "version": "3.8.3"
        },
        "orig_nbformat": 4
    },
    "nbformat": 4,
    "nbformat_minor": 2
}
